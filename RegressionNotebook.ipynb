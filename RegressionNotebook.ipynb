{
  "nbformat": 4,
  "nbformat_minor": 0,
  "metadata": {
    "colab": {
      "provenance": [],
      "authorship_tag": "ABX9TyOXOw4WOfqrn7d38Iz4RzSu",
      "include_colab_link": true
    },
    "kernelspec": {
      "name": "python3",
      "display_name": "Python 3"
    },
    "language_info": {
      "name": "python"
    }
  },
  "cells": [
    {
      "cell_type": "markdown",
      "metadata": {
        "id": "view-in-github",
        "colab_type": "text"
      },
      "source": [
        "<a href=\"https://colab.research.google.com/github/nnilayy/Regression-Notebook/blob/main/RegressionNotebook.ipynb\" target=\"_parent\"><img src=\"https://colab.research.google.com/assets/colab-badge.svg\" alt=\"Open In Colab\"/></a>"
      ]
    },
    {
      "cell_type": "code",
      "execution_count": null,
      "metadata": {
        "id": "tNiVbQyMpjJ-"
      },
      "outputs": [],
      "source": [
        "from sklearn.linear_model import PassiveAggressiveRegressor\n",
        "from sklearn.datasets import make_regression\n",
        "\n",
        "from sklearn.linear_model import PoissonRegressor\n",
        "from sklearn.linear_model import TweedieRegressor\n",
        "from sklearn.linear_model import GammaRegressor\n",
        "\n",
        "from sklearn.linear_model import HuberRegressor\n",
        "from sklearn.linear_model import QuantileRegressor\n",
        "from sklearn.linear_model import RANSACRegressor\n",
        "from sklearn.linear_model import TheilSenRegressor\n",
        "\n",
        "from sklearn.linear_model import MultiTaskElasticNet\n",
        "from sklearn.linear_model import MultiTaskElasticNetCV\n",
        "from sklearn.linear_model import MultiTaskLasso\n",
        "from sklearn.linear_model import MultiTaskLassoCV\n",
        "\n",
        "# Bayesian Regression\n",
        "from sklearn.linear_model import ARDRegression\n",
        "from sklearn.linear_model import BayesianRidge\n",
        "\n",
        "\n",
        "from sklearn.linear_model import ElasticNet\n",
        "from sklearn.linear_model import ElasticNetCV\n",
        "from sklearn.linear_model import Lars\n",
        "from sklearn.linear_model import LarsCV\n",
        "from sklearn.linear_model import Lasso\n",
        "from sklearn.linear_model import LassoCV\n",
        "from sklearn.linear_model import LassoLars\n",
        "from sklearn.linear_model import LassoLarsCV\n",
        "from sklearn.linear_model import LassoLarsIC\n",
        "from sklearn.linear_model import OrthogonalMatchingPursuit\n",
        "from sklearn.linear_model import OrthogonalMatchingPursuitCV\n",
        "\n",
        "\n",
        "from sklearn.linear_model import LinearRegression\n",
        "from sklearn.linear_model import Ridge\n",
        "from sklearn.linear_model import RidgeCV\n",
        "from sklearn.linear_model import SGDRegressor"
      ]
    },
    {
      "cell_type": "code",
      "source": [],
      "metadata": {
        "id": "8vB7S15ptUKV"
      },
      "execution_count": null,
      "outputs": []
    }
  ]
}