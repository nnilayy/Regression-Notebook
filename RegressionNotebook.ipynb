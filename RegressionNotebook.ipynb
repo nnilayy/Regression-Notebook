{
  "nbformat": 4,
  "nbformat_minor": 0,
  "metadata": {
    "colab": {
      "provenance": [],
      "authorship_tag": "ABX9TyNR8kgw0UVJr/3MuBZUeLJ+",
      "include_colab_link": true
    },
    "kernelspec": {
      "name": "python3",
      "display_name": "Python 3"
    },
    "language_info": {
      "name": "python"
    }
  },
  "cells": [
    {
      "cell_type": "markdown",
      "metadata": {
        "id": "view-in-github",
        "colab_type": "text"
      },
      "source": [
        "<a href=\"https://colab.research.google.com/github/nnilayy/Regression-Notebook/blob/main/RegressionNotebook.ipynb\" target=\"_parent\"><img src=\"https://colab.research.google.com/assets/colab-badge.svg\" alt=\"Open In Colab\"/></a>"
      ]
    },
    {
      "cell_type": "code",
      "execution_count": 1,
      "metadata": {
        "id": "tNiVbQyMpjJ-"
      },
      "outputs": [],
      "source": [
        "from sklearn.linear_model import PassiveAggressiveRegressor\n",
        "from sklearn.datasets import make_regression\n",
        "\n",
        "from sklearn.linear_model import PoissonRegressor\n",
        "from sklearn.linear_model import TweedieRegressor\n",
        "from sklearn.linear_model import GammaRegressor\n",
        "\n",
        "from sklearn.linear_model import HuberRegressor\n",
        "from sklearn.linear_model import QuantileRegressor\n",
        "from sklearn.linear_model import RANSACRegressor\n",
        "from sklearn.linear_model import TheilSenRegressor\n",
        "\n",
        "from sklearn.linear_model import MultiTaskElasticNet\n",
        "from sklearn.linear_model import MultiTaskElasticNetCV\n",
        "from sklearn.linear_model import MultiTaskLasso\n",
        "from sklearn.linear_model import MultiTaskLassoCV\n",
        "\n",
        "# Bayesian Regression\n",
        "from sklearn.linear_model import ARDRegression\n",
        "from sklearn.linear_model import BayesianRidge\n",
        "\n",
        "\n",
        "from sklearn.linear_model import ElasticNet\n",
        "from sklearn.linear_model import ElasticNetCV\n",
        "from sklearn.linear_model import Lars\n",
        "from sklearn.linear_model import LarsCV\n",
        "from sklearn.linear_model import Lasso\n",
        "from sklearn.linear_model import LassoCV\n",
        "from sklearn.linear_model import LassoLars\n",
        "from sklearn.linear_model import LassoLarsCV\n",
        "from sklearn.linear_model import LassoLarsIC\n",
        "from sklearn.linear_model import OrthogonalMatchingPursuit\n",
        "from sklearn.linear_model import OrthogonalMatchingPursuitCV\n",
        "\n",
        "\n",
        "from sklearn.linear_model import LinearRegression\n",
        "from sklearn.linear_model import Ridge\n",
        "from sklearn.linear_model import RidgeCV\n",
        "from sklearn.linear_model import SGDRegressor\n",
        "\n",
        "from sklearn.kernel_ridge import KernelRidge\n",
        "from sklearn.isotonic import IsotonicRegression\n",
        "from sklearn.gaussian_process import GaussianProcessRegressor\n",
        "\n",
        "from sklearn.ensemble import HistGradientBoostingRegressor\n",
        "from sklearn.ensemble import RandomForestRegressor\n",
        "from sklearn.ensemble import VotingRegressor\n",
        "from sklearn.ensemble import StackingRegressor\n",
        "from sklearn.ensemble import GradientBoostingRegressor\n",
        "from sklearn.ensemble import ExtraTreesRegressor\n",
        "from sklearn.ensemble import BaggingRegressor\n",
        "from sklearn.ensemble import AdaBoostRegressor\n",
        "\n",
        "from sklearn.neighbors import KNeighborsRegressor\n",
        "from sklearn.neighbors import RadiusNeighborsRegressor\n",
        "\n",
        "from sklearn.dummy import DummyClassifier\n",
        "from sklearn.dummy import DummyRegressor\n",
        "\n",
        "\n",
        "from sklearn.neural_network import MLPRegressor\n",
        "\n",
        "\n",
        "from sklearn.svm import LinearSVR\n",
        "from sklearn.svm import NuSVR\n",
        "from sklearn.svm import SVR\n",
        "\n",
        "\n",
        "from sklearn.tree import DecisionTreeRegressor\n",
        "from sklearn.tree import ExtraTreeRegressor\n"
      ]
    },
    {
      "cell_type": "code",
      "source": [
        "\n"
      ],
      "metadata": {
        "id": "8vB7S15ptUKV"
      },
      "execution_count": null,
      "outputs": []
    }
  ]
}